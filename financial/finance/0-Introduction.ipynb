{
 "cells": [
  {
   "cell_type": "markdown",
   "id": "e9c57f05-7842-4987-aa7f-ddbef999cb0c",
   "metadata": {},
   "source": [
    "## Optimal Liquidation Problem (How to sell stocks with minimal loss)\n",
    "\n",
    "\n",
    "Assume that you have a certain number of stocks that you want to sell within a given time frame. For instance, you want to sell 1 million shares within 30 days. taking into account the costs arising from **market impact** and a trader's **risk aversion**, the goal is to create a trading list that sells all the stocks, within the given time frame, such that the total cost of trading is minimized"
   ]
  },
  {
   "cell_type": "markdown",
   "id": "c2dd553b-7da6-43ae-a0f6-986b26e46d74",
   "metadata": {},
   "source": [
    "## Temporary and permanent market impact\n",
    "\n",
    "Lets start with market impact. Market impact is the effect that a market participant has when she/he buys or sells the stock. In this problem we only consider selling stocks and the corresponding market impacts.\n",
    "\n",
    "In our study we consider two cases:\n",
    "\n",
    "**(1) permanent market impact**\n",
    "\n",
    "**(2) temporary market impact**\n",
    "\n",
    "The following picture illustrates the permanent market impact (i.e, when the price of stock drops when we sell)\n",
    "\n",
    "<img src=\"./text_images/intro_1.png\" width=\"600\" height=\"600\">\n",
    "\n",
    "Since every time we sell, price drops, it means that in this case we are going to loose money"
   ]
  },
  {
   "cell_type": "markdown",
   "id": "0072b4e0-d1b7-47f4-a6be-ca744fd26d95",
   "metadata": {},
   "source": [
    "## Implementation shortfall\n",
    "\n",
    "Assume we sel our shares in the intervals like below, then the implementation shortfall is defined by the loss (or gain) from selling due to market impact. \n",
    "\n",
    "For now, lets assume we have 12 stocks and the initial price is 100 \\$. If we sell our shares in 4 steps, we get the following shortfall (i.e, **the difference between my initial wealth and the total profit gain after selling them, also known as capture**)\n",
    "\n",
    "<img src=\"./text_images/intro_2.png\" width=\"600\" height=\"600\">\n",
    "\n",
    "But In reality the sock prices fluctuate in between trades\n",
    "\n",
    "<img src=\"./text_images/intro_3.png\" width=\"600\" height=\"600\">\n",
    "\n",
    "So the actual shortfall will be impacted by random fluctuations in stock prices:\n",
    "\n",
    "<img src=\"./text_images/intro_4.png\" width=\"600\" height=\"600\">\n",
    "\n",
    "Lets compute the implementation shortfall when we consider this random fluctuations\n",
    "\n",
    "<img src=\"./text_images/intro_5.png\" width=\"600\" height=\"600\">"
   ]
  },
  {
   "cell_type": "markdown",
   "id": "abbd897f-b787-4489-93b4-c48d9ffadda0",
   "metadata": {},
   "source": [
    "## Comparison\n",
    "\n",
    "\n",
    "<img src=\"./text_images/intro_6.png\" width=\"600\" height=\"600\">\n",
    "<img src=\"./text_images/intro_7.png\" width=\"600\" height=\"600\">\n",
    "\n",
    "Now lets write down the $I_{s_2}$ in terms of $I_{s_1}$. As we can see the blue expression is the **capture** of $I_{s_1}$ and the yellow expression is induced by random noise. For instance the first term of yellow part (\\$ 3) means that the first implementation took place 3 dollars below the permanent change \n",
    "\n",
    "<img src=\"./text_images/intro_8.png\" width=\"600\" height=\"600\">\n",
    "\n",
    "If we simplify further:\n",
    "\n",
    "<img src=\"./text_images/intro_9.png\" width=\"600\" height=\"600\">\n",
    "\n",
    "Now we denote $I_{s_1} = E(X)$ which is the implementation shortfall in the absence of noise. In fact since the noise is distributed as $\\mathcal{N}(0, \\sigma)$ in this case, so this is a valid equation.\n",
    "\n",
    "<img src=\"./text_images/intro_10.png\" width=\"600\" height=\"600\">\n",
    "\n",
    "The second term is due to noise. which would be higher or lower due to the value of $\\sigma$\n",
    "\n",
    "<img src=\"./text_images/intro_11.png\" width=\"600\" height=\"600\">\n",
    "<img src=\"./text_images/intro_12.png\" width=\"600\" height=\"600\">"
   ]
  },
  {
   "cell_type": "markdown",
   "id": "891dea18-998c-45c8-905b-da3bf5022136",
   "metadata": {},
   "source": [
    "## Reformulation of the optimal liquidation problem\n",
    "\n",
    "We like to minimize the shortfall given by:\n",
    "\n",
    "### $$I_{s} = E(X) + R$$\n",
    "\n",
    "Where $E(X)$ is the expected shortfall due to market impacts and the second term $R$ is **price volitality** the amount of risk that the seller is willing to take. The risk is usually quantify by the variance of fluctuations. So if the value of $\\sigma$ is higher then the trading is more risky.\n",
    "\n",
    "So a seller that does not want to take risk, will sell as quickly as possible, but the risk taking seller would sell in a longer period of time."
   ]
  }
 ],
 "metadata": {
  "kernelspec": {
   "display_name": "Python 3 (ipykernel)",
   "language": "python",
   "name": "python3"
  },
  "language_info": {
   "codemirror_mode": {
    "name": "ipython",
    "version": 3
   },
   "file_extension": ".py",
   "mimetype": "text/x-python",
   "name": "python",
   "nbconvert_exporter": "python",
   "pygments_lexer": "ipython3",
   "version": "3.10.12"
  }
 },
 "nbformat": 4,
 "nbformat_minor": 5
}
